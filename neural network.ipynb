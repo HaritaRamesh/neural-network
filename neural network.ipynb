{
  "nbformat": 4,
  "nbformat_minor": 0,
  "metadata": {
    "colab": {
      "name": "main.ipynb",
      "provenance": []
    },
    "kernelspec": {
      "name": "python3",
      "display_name": "Python 3"
    }
  },
  "cells": [
    {
      "cell_type": "code",
      "metadata": {
        "id": "AYCKir6X7VAC",
        "colab_type": "code",
        "colab": {}
      },
      "source": [
        "def sig(z):\n",
        "    return 1/(1+np.exp(-z))"
      ],
      "execution_count": 0,
      "outputs": []
    },
    {
      "cell_type": "code",
      "metadata": {
        "id": "QE46uPsR7ZD7",
        "colab_type": "code",
        "colab": {}
      },
      "source": [
        "def softmax(x):\n",
        "    return np.exp(x) / np.sum(np.exp(x), axis=1, keepdims=True)"
      ],
      "execution_count": 0,
      "outputs": []
    },
    {
      "cell_type": "code",
      "metadata": {
        "id": "f56P_Rus7bmM",
        "colab_type": "code",
        "colab": {}
      },
      "source": [
        "def cost_func(a2,y_train_new,m):\n",
        "    cost = -np.sum(y_train_new*np.log(a2)) / m\n",
        "    return cost"
      ],
      "execution_count": 0,
      "outputs": []
    },
    {
      "cell_type": "code",
      "metadata": {
        "id": "cFH22wp57eFt",
        "colab_type": "code",
        "colab": {}
      },
      "source": [
        "def gradient_w2(a2,y_train_new,a1,m):\n",
        "    error=a2 - y_train_new\n",
        "    dw2= np.dot(np.transpose(a1), error) / m\n",
        "    return dw2"
      ],
      "execution_count": 0,
      "outputs": []
    },
    {
      "cell_type": "code",
      "metadata": {
        "id": "MDFKVdE97geC",
        "colab_type": "code",
        "colab": {}
      },
      "source": [
        "def gradient_w1(a2,y_train_new,a1,weight2,X,m):\n",
        "    #error=a2-y\n",
        "    error=a2 - y_train_new\n",
        "    #der_a1=a1(1-a1)\n",
        "    der_a1=a1*(1-a1)\n",
        "    #inter=np.dot(a2-y,w2.T)\n",
        "    #inter=(a2-y)w2\n",
        "    inter=np.dot(error, weight2.T)\n",
        "    #inter1=(a2-y)w2(a1(a1-1))\n",
        "    inter1=inter*der_a1\n",
        "    #dw1=(1/m)*[((a2-y).dot(w2.T))*(a1*(a1-1))].dot(X.T)\n",
        "    dw1=np.dot(X.T,inter1) / m\n",
        "    return dw1"
      ],
      "execution_count": 0,
      "outputs": []
    },
    {
      "cell_type": "code",
      "metadata": {
        "id": "q-kY78YQ7i_x",
        "colab_type": "code",
        "colab": {}
      },
      "source": [
        "def gradient_b1(a2,y_train_new,a1,weight2,m):\n",
        "    #error=a2-y\n",
        "    error=a2 - y_train_new\n",
        "    #der_a1=a1(1-a1)\n",
        "    der_a1=a1*(1-a1)\n",
        "    #inter=np.dot(a2-y,w2.T)\n",
        "    inter=np.dot(error,weight2.T)\n",
        "    #inter1=(a2-y)w2(a1(a1-1))\n",
        "    inter1=inter*der_a1\n",
        "    #row-wise sum of the matrix to obtain the same dimensions as bias1\n",
        "    db1 = np.sum(inter1, axis=0, keepdims=True) / m\n",
        "    return db1\n",
        "    "
      ],
      "execution_count": 0,
      "outputs": []
    },
    {
      "cell_type": "code",
      "metadata": {
        "id": "beJx02ey7lJ3",
        "colab_type": "code",
        "colab": {}
      },
      "source": [
        "def gradient_b2(a2,y_train_new,m):\n",
        "    #error=a2-y\n",
        "    error=a2 - y_train_new \n",
        "    #row-wise sum of the matrix to obtain the same dimensions as bias1\n",
        "    db2= np.sum(error, axis=0, keepdims=True) / m\n",
        "    return db2"
      ],
      "execution_count": 0,
      "outputs": []
    },
    {
      "cell_type": "code",
      "metadata": {
        "id": "ciDRLGyM7naG",
        "colab_type": "code",
        "colab": {}
      },
      "source": [
        "def acc_train_val(y_train,a2):\n",
        "      pred = np.zeros_like(a2)\n",
        "      pred[np.arange(len(a2)), a2.argmax(1)] = 1\n",
        "      acc=accuracy_score(y_train,pred)\n",
        "      return acc"
      ],
      "execution_count": 0,
      "outputs": []
    },
    {
      "cell_type": "code",
      "metadata": {
        "id": "rcNgQ_647wQ5",
        "colab_type": "code",
        "colab": {}
      },
      "source": [
        "def test_val(X_test,y_test,w_final1,w_final2,b_final1,b_final2):\n",
        "      my_dataset2=pd.DataFrame(y_test)\n",
        "      dummies1=pd.get_dummies(my_dataset2[0])\n",
        "      y_test_new1=dummies1.values\n",
        "      z1=np.array(np.dot(X_test,w_final1)+b_final1)\n",
        "      a1=sig(z1)\n",
        "      z2=np.array(np.dot(a1,w_final2)+b_final2)\n",
        "      a2=softmax(z2)\n",
        "      pred = np.zeros_like(a2)\n",
        "      pred[np.arange(len(a2)), a2.argmax(1)] = 1\n",
        "      acc=accuracy_score(y_test_new1,pred)\n",
        "      return acc"
      ],
      "execution_count": 0,
      "outputs": []
    },
    {
      "cell_type": "code",
      "metadata": {
        "id": "Dk5CYdlj7y7s",
        "colab_type": "code",
        "colab": {}
      },
      "source": [
        "def test_val_confusion(X_test,y_test,w_final1,w_final2,b_final1,b_final2):\n",
        "      my_dataset2=pd.DataFrame(y_test)\n",
        "      dummies1=pd.get_dummies(my_dataset2[0])\n",
        "      y_test_new1=dummies1.values\n",
        "      z1=np.array(np.dot(X_test,w_final1)+b_final1)\n",
        "      a1=sig(z1)\n",
        "      z2=np.array(np.dot(a1,w_final2)+b_final2)\n",
        "      a2=softmax(z2)\n",
        "      pred = np.zeros_like(a2)\n",
        "      pred[np.arange(len(a2)), a2.argmax(1)] = 1\n",
        "      conf=confusion_matrix(y_test_new1.argmax(axis=1), pred.argmax(axis=1))\n",
        "      return conf"
      ],
      "execution_count": 0,
      "outputs": []
    },
    {
      "cell_type": "code",
      "metadata": {
        "id": "N-okBT2k85zC",
        "colab_type": "code",
        "colab": {}
      },
      "source": [
        "def accuracy_calc(confusion_matrix_retrived,X_test):\n",
        "    accuracy_lst=[]\n",
        "    col=y.shape[1]\n",
        "    row=y.shape[0]\n",
        "    N_total=X_test.shape[0]\n",
        "    for i in range(row):\n",
        "      for j in range(col):\n",
        "        if(i==j):\n",
        "          accuracy_lst.append(y[i][j])\n",
        "          j=j+1\n",
        "      i=i+1\n",
        "    accuracy=sum(accuracy_lst)\n",
        "    accuracy=accuracy/N_total\n",
        "    return accuracy"
      ],
      "execution_count": 0,
      "outputs": []
    },
    {
      "cell_type": "code",
      "metadata": {
        "id": "rJoLki2k7rTN",
        "colab_type": "code",
        "colab": {
          "base_uri": "https://localhost:8080/",
          "height": 1000
        },
        "outputId": "6614dab3-57ff-4f53-8693-c437f15e3a41"
      },
      "source": [
        "#MODEL 1 => NEURAL NETWORK WITH ONE HIDDEN LAYER\n",
        "\n",
        "import tensorflow as tf\n",
        "import numpy as np\n",
        "import pandas as pd\n",
        "import matplotlib.pyplot as plt\n",
        "from sklearn.metrics import confusion_matrix\n",
        "from sklearn.preprocessing import minmax_scale\n",
        "from sklearn.metrics import accuracy_score\n",
        "np.random.seed(3)\n",
        "\n",
        "\n",
        "mnist=tf.keras.datasets.fashion_mnist\n",
        "\n",
        "#split the data into train and test set\n",
        "(X_train1,y_train1),(X_test1,y_test1)=mnist.load_data()\n",
        "#X_train, y_train = util_mnist_reader.load_mnist('data/fashion', kind='train')\n",
        "#X_test, y_test = util_mnist_reader.load_mnist('data/fashion', kind='t10k')\n",
        "#X_train.shape = (60000, 784)\n",
        "#y_train.shape = (60000,)\n",
        "\n",
        "#Reshaping to flatten the image\n",
        "X_train=np.reshape(X_train1,(60000,784))\n",
        "\n",
        "#Reshaping to flatten the image\n",
        "X_test=np.reshape(X_test1,(10000,784))\n",
        "\n",
        "#Normalization of data\n",
        "X_train=X_train/255.0\n",
        "X_test=X_test/255.0\n",
        "\n",
        "#extracting the labels of the X_train and converting to dataframe to use get.dummies in pandas \n",
        "my_dataset1=pd.DataFrame(y_train1)\n",
        "\n",
        "#creating one-hot encoded vector. This will now become the labels of the X_train\n",
        "dummies=pd.get_dummies(my_dataset1[0])\n",
        "y_train2=dummies.values\n",
        "#y_train.shape=(60000,10)\n",
        "\n",
        "#creating one hot encoded vector for the test data label \n",
        "my_dataset2=pd.DataFrame(y_test1)\n",
        "dummies1=pd.get_dummies(my_dataset2[0])\n",
        "y_test2=dummies1.values\n",
        "\n",
        "\n",
        "#weight1 is the weights associated to the hidden layer\n",
        "weight1=np.random.randn(784,200)\n",
        "bias1=np.random.randn(1, 200)\n",
        "\n",
        "#weight2 is the weights associated to the output layer\n",
        "weight2=np.random.randn(200,10)\n",
        "bias2=np.random.randn(1, 10)\n",
        "\n",
        "n=0.3\n",
        "m=X_train.shape[0]\n",
        "m1=X_test.shape[0]\n",
        "training_accuracy = []\n",
        "loss=[]\n",
        "loss_validate=[]\n",
        "validate_accuracy=[]\n",
        "i=0\n",
        "\n",
        "for epoch in range(2000):\n",
        "    z1=np.dot(X_train,weight1)+bias1\n",
        "    #z1.shape => (60000, 20)\n",
        "    z_validate=np.dot(X_test,weight1)+bias1\n",
        "    \n",
        "    a1=sig(z1)\n",
        "    #a1.shape = (60000, 20)\n",
        "    a_validate=sig(z_validate)\n",
        "    \n",
        "    z2=np.dot(a1,weight2)+bias2\n",
        "    #z2.shape = (60000, 10)\n",
        "    z2_validate=np.dot(a_validate,weight2)+bias2\n",
        "    \n",
        "    a2=softmax(z2)\n",
        "    #a2.shape=(60000, 10)\n",
        "    a2_validate=softmax(z2_validate)\n",
        "    \n",
        "    \n",
        "    cost=cost_func(a2,y_train2,m)\n",
        "    print(\"cost:\",cost)\n",
        "    cost_validate=cost_func(a2_validate,y_test2,m1)\n",
        "    \n",
        "    accuracy_train=acc_train_val(y_train2,a2)\n",
        "    accuracy_validate=acc_train_val(y_test2,a2_validate)\n",
        "    \n",
        "    training_accuracy.append(accuracy_train)\n",
        "    validate_accuracy.append(accuracy_validate)\n",
        "    \n",
        "    #updating the weights and bias\n",
        "    weight2=weight2-n*(gradient_w2(a2,y_train2,a1,m))\n",
        "    bias2=bias2-n*(gradient_b2(a2,y_train2,m))\n",
        "    weight1=weight1-n*(gradient_w1(a2,y_train2,a1,weight2,X_train,m))\n",
        "    bias1=bias1-n*(gradient_b1(a2,y_train2,a1,weight2,m))\n",
        "\n",
        "    loss.append(cost)\n",
        "    loss_validate.append(cost_validate)\n",
        "    \n",
        "    i=i+1\n",
        "    if epoch % 5 == 0:\n",
        "        print(i)\n",
        "    \n",
        "w_final1=weight1\n",
        "w_final2=weight2\n",
        "\n",
        "b_final1=bias1\n",
        "b_final2=bias2\n",
        "\n",
        "\n",
        "i=0\n",
        "epochs=[]\n",
        "for i in range(2000):\n",
        "    i=i+1\n",
        "    epochs.append(i)\n",
        "    \n",
        "plt.plot(epochs,loss,'r')\n",
        "plt.xlabel('Number of epochs')\n",
        "plt.ylabel('Cost of training data')\n",
        "plt.title('Variation of cost with respect to epochs')\n",
        "plt.show()\n",
        "\n",
        "plt.plot(epochs,loss_validate,'b')\n",
        "plt.xlabel('Number of epochs')\n",
        "plt.ylabel('Cost of validation data')\n",
        "plt.title('Variation of cost with respect to epochs')\n",
        "plt.show()\n",
        "\n",
        "plt.plot(epochs,training_accuracy,'r')\n",
        "plt.xlabel('Number of epochs')\n",
        "plt.ylabel('Training accuracy')\n",
        "plt.title('Variation of training accuracy with respect to epochs')\n",
        "plt.show()\n",
        "\n",
        "plt.plot(epochs,validate_accuracy,'b')\n",
        "plt.xlabel('Number of epochs')\n",
        "plt.ylabel('Validation accuracy')\n",
        "plt.title('Variation of validation accuracy with respect to epochs')\n",
        "plt.show()\n",
        "\n",
        "y1=test_val_confusion(X_test,y_test1,w_final1,w_final2,b_final1,b_final2)\n",
        "accuracy_lst1=[]\n",
        "col1=y1.shape[1]\n",
        "row1=y1.shape[0]\n",
        "N_total=X_test.shape[0]\n",
        "for i in range(row1):\n",
        "  for j in range(col1):\n",
        "    if(i==j):\n",
        "      accuracy_lst1.append(y1[i][j])\n",
        "      j=j+1\n",
        "  i=i+1\n",
        "accuracy1=sum(accuracy_lst1)\n",
        "accuracy1=accuracy1/N_total\n",
        "#accuracy = accuracy_calc(y,X_test)\n",
        "print(\"Accuracy of neural network with one hidden layer: \",accuracy1)\n",
        "print(\"Confusion matrix for neural network with one hidden layer: \")\n",
        "print(y1)"
      ],
      "execution_count": 12,
      "outputs": [
        {
          "output_type": "stream",
          "text": [
            "cost: 12.957492794596481\n",
            "1\n",
            "cost: 8.781618245695196\n",
            "cost: 6.834922687777875\n",
            "cost: 5.79680418853825\n",
            "cost: 5.111407459804976\n",
            "cost: 4.550517724279304\n",
            "6\n",
            "cost: 4.19269568178038\n",
            "cost: 3.9237851243217783\n",
            "cost: 3.6982735235197737\n",
            "cost: 3.5068653968357753\n",
            "cost: 3.342549167305948\n",
            "11\n",
            "cost: 3.199653996405854\n",
            "cost: 3.0739469585848274\n",
            "cost: 2.962253543324602\n",
            "cost: 2.8621775517929655\n",
            "cost: 2.7718763480648776\n",
            "16\n",
            "cost: 2.6898975583690423\n",
            "cost: 2.615073299804692\n",
            "cost: 2.54644577460615\n",
            "cost: 2.4832196812364606\n",
            "cost: 2.4247278519324458\n",
            "21\n",
            "cost: 2.3704074403825346\n",
            "cost: 2.319781243013191\n",
            "cost: 2.2724432706778233\n",
            "cost: 2.2280467795166263\n",
            "cost: 2.186294429890168\n",
            "26\n",
            "cost: 2.1469300412429955\n",
            "cost: 2.1097318205332862\n",
            "cost: 2.074506817532264\n",
            "cost: 2.041086411681441\n",
            "cost: 2.0093226016972805\n",
            "31\n",
            "cost: 1.9790849132314945\n",
            "cost: 1.9502577824931786\n",
            "cost: 1.922738326883246\n",
            "cost: 1.8964344491736684\n",
            "cost: 1.8712632408373207\n",
            "36\n",
            "cost: 1.8471496548577209\n",
            "cost: 1.8240254164798837\n",
            "cost: 1.8018281375010292\n",
            "cost: 1.7805005988332994\n",
            "cost: 1.7599901677496919\n",
            "41\n",
            "cost: 1.7402483198970278\n",
            "cost: 1.7212302409994071\n",
            "cost: 1.7028944885444353\n",
            "cost: 1.6852026989344213\n",
            "cost: 1.6681193300604786\n",
            "46\n",
            "cost: 1.6516114325954998\n",
            "cost: 1.6356484454887887\n",
            "cost: 1.6202020123505252\n",
            "cost: 1.6052458159878755\n",
            "cost: 1.5907554285626178\n",
            "51\n",
            "cost: 1.5767081749075034\n",
            "cost: 1.563083006566845\n",
            "cost: 1.5498603842022285\n",
            "cost: 1.5370221661676868\n",
            "cost: 1.5245515013628033\n",
            "56\n",
            "cost: 1.5124327249324585\n",
            "cost: 1.5006512559967549\n",
            "cost: 1.4891934973106054\n",
            "cost: 1.4780467374881723\n",
            "cost: 1.467199057062627\n",
            "61\n",
            "cost: 1.456639240063724\n",
            "cost: 1.4463566928805307\n",
            "cost: 1.436341371901832\n",
            "cost: 1.426583720847953\n",
            "cost: 1.4170746179672593\n",
            "66\n",
            "cost: 1.4078053325445334\n",
            "cost: 1.3987674896126396\n",
            "cost: 1.3899530414600327\n",
            "cost: 1.381354244492357\n",
            "cost: 1.3729636401775975\n",
            "71\n",
            "cost: 1.3647740390889087\n",
            "cost: 1.3567785073622438\n",
            "cost: 1.3489703551364873\n",
            "cost: 1.3413431267055884\n",
            "cost: 1.3338905921843756\n",
            "76\n",
            "cost: 1.3266067404953532\n",
            "cost: 1.3194857734561343\n",
            "cost: 1.3125221007162877\n",
            "cost: 1.3057103352783441\n",
            "cost: 1.2990452893477462\n",
            "81\n",
            "cost: 1.2925219702889725\n",
            "cost: 1.2861355765119598\n",
            "cost: 1.2798814931656135\n",
            "cost: 1.2737552875657632\n",
            "cost: 1.2677527043283388\n",
            "86\n",
            "cost: 1.2618696602123156\n",
            "cost: 1.256102238700797\n",
            "cost: 1.2504466843635673\n",
            "cost: 1.2448993970522757\n",
            "cost: 1.2394569259820543\n",
            "91\n",
            "cost: 1.2341159637525643\n",
            "cost: 1.2288733403584813\n",
            "cost: 1.2237260172354194\n",
            "cost: 1.2186710813827275\n",
            "cost: 1.2137057395998772\n",
            "96\n",
            "cost: 1.2088273128684708\n",
            "cost: 1.204033230907148\n",
            "cost: 1.1993210269220196\n",
            "cost: 1.1946883325704774\n"
          ],
          "name": "stdout"
        },
        {
          "output_type": "display_data",
          "data": {
            "image/png": "[encoded data removed]",
            "text/plain": [
              "<Figure size 432x288 with 1 Axes>"
            ]
          },
          "metadata": {
            "tags": []
          }
        },
        {
          "output_type": "display_data",
          "data": {
            "image/png": "[encoded data removed]",
            "text/plain": [
              "<Figure size 432x288 with 1 Axes>"
            ]
          },
          "metadata": {
            "tags": []
          }
        },
        {
          "output_type": "display_data",
          "data": {
            "image/png": "[encoded data removed]",
            "text/plain": [
              "<Figure size 432x288 with 1 Axes>"
            ]
          },
          "metadata": {
            "tags": []
          }
        },
        {
          "output_type": "display_data",
          "data": {
            "image/png": "[encoded data removed]",
            "text/plain": [
              "<Figure size 432x288 with 1 Axes>"
            ]
          },
          "metadata": {
            "tags": []
          }
        },
        {
          "output_type": "stream",
          "text": [
            "Accuracy of neural network with one hidden layer:  0.6587\n",
            "Confusion matrix for neural network with one hidden layer: \n",
            "[[609  16  42 112  23   7 165   3  21   2]\n",
            " [ 17 873   9  61  12   5  14   2   6   1]\n",
            " [ 58   4 490   8 205  17 179   0  29  10]\n",
            " [115  49  32 669  45   8  62   3  17   0]\n",
            " [ 25   2 214  48 527   5 148   0  25   6]\n",
            " [ 13   1  17   4   4 681  29 128  52  71]\n",
            " [153   7 165  62 196  15 345   5  46   6]\n",
            " [  0   0   1   1   0 124   0 775  10  89]\n",
            " [  4   1  25  20  21  47  39  28 796  19]\n",
            " [ 11   2  11   0   1  69   9  64  11 822]]\n"
          ],
          "name": "stdout"
        }
      ]
    },
    {
      "cell_type": "code",
      "metadata": {
        "id": "rn0CnqW39oBq",
        "colab_type": "code",
        "colab": {
          "base_uri": "https://localhost:8080/",
          "height": 1000
        },
        "outputId": "66b607dd-a446-40ef-aa22-8b2d2c8c7169"
      },
      "source": [
        "#MODEL 2 => Neural Network with multiple hidden layers\n",
        "from sklearn import metrics\n",
        "import pandas as pd\n",
        "import tensorflow as tf\n",
        "import time\n",
        "from tensorflow.keras.callbacks import TensorBoard\n",
        "from tensorflow.keras.models import Sequential\n",
        "from tensorflow.keras.utils import plot_model\n",
        "import matplotlib.pyplot as plt\n",
        "\n",
        "#Creating logs file for tensorboard\n",
        "NAME = \"Classification of clothes items - {}\".format(int(time.time()))\n",
        "tensorboard=TensorBoard(log_dir='logs/{}'.format(NAME))\n",
        "\n",
        "X_test3=X_test1/255.0\n",
        "X_train3=X_train1/255.0\n",
        "#model is sequential as it stacks layers one after the other\n",
        "model=tf.keras.Sequential()\n",
        "#Flattens the image size\n",
        "model.add(tf.keras.layers.Flatten(input_shape=(28,28)))\n",
        "#Dense layer containing 200 hidden nodes, activation => sigmoid\n",
        "model.add(tf.keras.layers.Dense(200))\n",
        "model.add(tf.keras.layers.Activation('sigmoid'))\n",
        "\n",
        "#Dense layer containing 200 hidden nodes, activation => sigmoid\n",
        "model.add(tf.keras.layers.Dense(200))\n",
        "model.add(tf.keras.layers.Activation('sigmoid'))\n",
        "\n",
        "#Dense output layer wih 10 neurons, activation =>softmax\n",
        "model.add(tf.keras.layers.Dense(10))\n",
        "model.add(tf.keras.layers.Activation('softmax'))\n",
        "\n",
        "#Adam optimizer has adaptive learning rate.\n",
        "model.compile(optimizer='adam',loss='sparse_categorical_crossentropy',metrics=['accuracy'])\n",
        "#To store the loss, accuracy for plotting purposes\n",
        "history=model.fit(X_train3,y_train1,epochs=10,callbacks=[tensorboard])\n",
        "\n",
        "#Model evaluation\n",
        "test_loss,accuracy=model.evaluate(X_test3,y_test1)\n",
        "\n",
        "#plot_model(model,show_shapes=True,to_file='model.png')\n",
        "\n",
        "\n",
        "plt.plot(history.history['acc'])\n",
        "plt.title('Accuracy of the model')\n",
        "plt.ylabel('Accuracy')\n",
        "plt.xlabel('Number of epochs')\n",
        "plt.show()\n",
        "\n",
        "plt.plot(history.history['loss'])\n",
        "plt.title('Loss of the model')\n",
        "plt.ylabel('Loss')\n",
        "plt.xlabel('Number of epochs')\n",
        "plt.show()\n",
        "\n",
        "#predictions of the model\n",
        "pred1 = model.predict(X_test3)\n",
        "#one hot encoded vector\n",
        "my_dataset2=pd.DataFrame(y_test1)\n",
        "dummies1=pd.get_dummies(my_dataset2[0])\n",
        "y_test_new1=dummies1.values\n",
        "#calculating confusion matrix\n",
        "y2 = metrics.confusion_matrix(y_test_new1.argmax(axis=1), pred1.argmax(axis=1))\n",
        "\n",
        "#Calculating accuracy of the dataset\n",
        "accuracy_lst2=[]\n",
        "col2=y2.shape[1]\n",
        "row2=y2.shape[0]\n",
        "N_total=X_test3.shape[0]\n",
        "for i in range(row2):\n",
        "  for j in range(col2):\n",
        "    if(i==j):\n",
        "      accuracy_lst2.append(y2[i][j])\n",
        "      j=j+1\n",
        "  i=i+1\n",
        "accuracy2=sum(accuracy_lst2)\n",
        "accuracy2=accuracy2/N_total\n",
        "print(\"Accuracy of multi-layer neural network: \",accuracy2)\n",
        "print(\"Confusion Matrix for  multi-layer neural network: \")\n",
        "print(y2)\n",
        "                                                                   "
      ],
      "execution_count": 13,
      "outputs": [
        {
          "output_type": "stream",
          "text": [
            "WARNING:tensorflow:From /usr/local/lib/python3.6/dist-packages/tensorflow_core/python/ops/resource_variable_ops.py:1630: calling BaseResourceVariable.__init__ (from tensorflow.python.ops.resource_variable_ops) with constraint is deprecated and will be removed in a future version.\n",
            "Instructions for updating:\n",
            "If using Keras pass *_constraint arguments to layers.\n",
            "Train on 60000 samples\n",
            "Epoch 1/10\n",
            "60000/60000 [==============================] - 6s 100us/sample - loss: 0.5533 - acc: 0.8031\n",
            "Epoch 2/10\n",
            "60000/60000 [==============================] - 6s 100us/sample - loss: 0.3841 - acc: 0.8604\n",
            "Epoch 3/10\n",
            "60000/60000 [==============================] - 6s 99us/sample - loss: 0.3467 - acc: 0.8743\n",
            "Epoch 4/10\n",
            "60000/60000 [==============================] - 6s 99us/sample - loss: 0.3218 - acc: 0.8816\n",
            "Epoch 5/10\n",
            "60000/60000 [==============================] - 6s 100us/sample - loss: 0.3032 - acc: 0.8892\n",
            "Epoch 6/10\n",
            "60000/60000 [==============================] - 6s 99us/sample - loss: 0.2892 - acc: 0.8931\n",
            "Epoch 7/10\n",
            "60000/60000 [==============================] - 6s 98us/sample - loss: 0.2750 - acc: 0.8975\n",
            "Epoch 8/10\n",
            "60000/60000 [==============================] - 6s 99us/sample - loss: 0.2602 - acc: 0.9035\n",
            "Epoch 9/10\n",
            "60000/60000 [==============================] - 6s 99us/sample - loss: 0.2503 - acc: 0.9054\n",
            "Epoch 10/10\n",
            "60000/60000 [==============================] - 6s 99us/sample - loss: 0.2400 - acc: 0.9100\n",
            "10000/10000 [==============================] - 0s 49us/sample - loss: 0.3320 - acc: 0.8810\n"
          ],
          "name": "stdout"
        },
        {
          "output_type": "display_data",
          "data": {
            "image/png": "[encoded data removed]",
            "text/plain": [
              "<Figure size 432x288 with 1 Axes>"
            ]
          },
          "metadata": {
            "tags": []
          }
        },
        {
          "output_type": "display_data",
          "data": {
            "image/png": "[encoded data removed]",
            "text/plain": [
              "<Figure size 432x288 with 1 Axes>"
            ]
          },
          "metadata": {
            "tags": []
          }
        },
        {
          "output_type": "stream",
          "text": [
            "Accuracy of multi-layer neural network:  0.881\n",
            "Confusion Matrix for  multi-layer neural network: \n",
            "[[771   3  21  36   3   1 158   0   7   0]\n",
            " [  1 970   2  20   3   0   4   0   0   0]\n",
            " [ 10   0 848  12  85   0  44   0   1   0]\n",
            " [ 10   5  17 901  40   1  22   0   4   0]\n",
            " [  1   1 108  25 832   0  32   0   1   0]\n",
            " [  0   0   0   1   0 943   0  25   1  30]\n",
            " [ 80   0 109  35  99   0 669   0   8   0]\n",
            " [  0   0   0   0   0  23   0 966   0  11]\n",
            " [  4   0   6   4   3   6   5   6 966   0]\n",
            " [  0   0   0   0   0   4   1  51   0 944]]\n"
          ],
          "name": "stdout"
        }
      ]
    },
    {
      "cell_type": "code",
      "metadata": {
        "id": "YcziE-dv-xkE",
        "colab_type": "code",
        "colab": {
          "base_uri": "https://localhost:8080/",
          "height": 35
        },
        "outputId": "24eab39d-e86f-4d6a-b19b-f065a944696b"
      },
      "source": [
        "%reload_ext tensorboard\n",
        "%tensorboard --logdir=./logs "
      ],
      "execution_count": 14,
      "outputs": [
        {
          "output_type": "display_data",
          "data": {
            "text/plain": [
              "Reusing TensorBoard on port 6006 (pid 2090), started 1:04:02 ago. (Use '!kill 2090' to kill it.)"
            ]
          },
          "metadata": {
            "tags": []
          }
        },
        {
          "output_type": "display_data",
          "data": {
            "text/html": [
              "\n",
              "    <div id=\"root\"></div>\n",
              "    <script>\n",
              "      (function() {\n",
              "        window.TENSORBOARD_ENV = window.TENSORBOARD_ENV || {};\n",
              "        window.TENSORBOARD_ENV[\"IN_COLAB\"] = true;\n",
              "        document.querySelector(\"base\").href = \"https://localhost:6006\";\n",
              "        function fixUpTensorboard(root) {\n",
              "          const tftb = root.querySelector(\"tf-tensorboard\");\n",
              "          // Disable the fragment manipulation behavior in Colab. Not\n",
              "          // only is the behavior not useful (as the iframe's location\n",
              "          // is not visible to the user), it causes TensorBoard's usage\n",
              "          // of `window.replace` to navigate away from the page and to\n",
              "          // the `localhost:<port>` URL specified by the base URI, which\n",
              "          // in turn causes the frame to (likely) crash.\n",
              "          tftb.removeAttribute(\"use-hash\");\n",
              "        }\n",
              "        function executeAllScripts(root) {\n",
              "          // When `script` elements are inserted into the DOM by\n",
              "          // assigning to an element's `innerHTML`, the scripts are not\n",
              "          // executed. Thus, we manually re-insert these scripts so that\n",
              "          // TensorBoard can initialize itself.\n",
              "          for (const script of root.querySelectorAll(\"script\")) {\n",
              "            const newScript = document.createElement(\"script\");\n",
              "            newScript.type = script.type;\n",
              "            newScript.textContent = script.textContent;\n",
              "            root.appendChild(newScript);\n",
              "            script.remove();\n",
              "          }\n",
              "        }\n",
              "        function setHeight(root, height) {\n",
              "          // We set the height dynamically after the TensorBoard UI has\n",
              "          // been initialized. This avoids an intermediate state in\n",
              "          // which the container plus the UI become taller than the\n",
              "          // final width and cause the Colab output frame to be\n",
              "          // permanently resized, eventually leading to an empty\n",
              "          // vertical gap below the TensorBoard UI. It's not clear\n",
              "          // exactly what causes this problematic intermediate state,\n",
              "          // but setting the height late seems to fix it.\n",
              "          root.style.height = `${height}px`;\n",
              "        }\n",
              "        const root = document.getElementById(\"root\");\n",
              "        fetch(\".\")\n",
              "          .then((x) => x.text())\n",
              "          .then((html) => void (root.innerHTML = html))\n",
              "          .then(() => fixUpTensorboard(root))\n",
              "          .then(() => executeAllScripts(root))\n",
              "          .then(() => setHeight(root, 800));\n",
              "      })();\n",
              "    </script>\n",
              "  "
            ],
            "text/plain": [
              "<IPython.core.display.HTML object>"
            ]
          },
          "metadata": {
            "tags": []
          }
        }
      ]
    },
    {
      "cell_type": "code",
      "metadata": {
        "id": "BHy7UUZ_Cde3",
        "colab_type": "code",
        "colab": {
          "base_uri": "https://localhost:8080/",
          "height": 1000
        },
        "outputId": "2fc2b6f4-a1ac-419d-fba1-982d561d9da8"
      },
      "source": [
        "#MODEL 3 => Convolutional neural network\n",
        "\n",
        "X_train2=X_train1.reshape(60000,28,28,1)\n",
        "X_test2=X_test1.reshape(10000,28,28,1)\n",
        "\n",
        "X_test2=X_test2/255.0\n",
        "X_train2=X_train2/255.0\n",
        "\n",
        "#model is sequential as it stacks layers one after the other\n",
        "model=tf.keras.models.Sequential()\n",
        "#Convolutional layer with 64 filters of (3,3) size. Activation function is sigmoid\n",
        "model.add(tf.keras.layers.Conv2D(64,(3,3),activation='sigmoid',input_shape=(28,28,1)))\n",
        "#Max Pooling layer which takes the output of convolutional layer 2x2 matrix at a time and finds the largest\n",
        "model.add(tf.keras.layers.MaxPooling2D(2,2))\n",
        "\n",
        "#Convolutional layer with 32 filters of (3,3) size. Activation function is sigmoid\n",
        "model.add(tf.keras.layers.Conv2D(32,(3,3),activation='sigmoid'))\n",
        "model.add(tf.keras.layers.MaxPooling2D(2,2))\n",
        "\n",
        "#Flattens the size\n",
        "model.add(tf.keras.layers.Flatten())\n",
        "#Dense layer containing 128 hidden nodes, activation => sigmoid\n",
        "#model.add(tf.keras.layers.Dense(128,activation=tf.nn.sigmoid))\n",
        "model.add(tf.keras.layers.Dense(200,activation=tf.nn.sigmoid))\n",
        "model.add(tf.keras.layers.Dense(200,activation=tf.nn.sigmoid))\n",
        "#Dense output layer wih 10 neurons, activation = > softmax\n",
        "model.add(tf.keras.layers.Dense(10,activation=tf.nn.softmax))\n",
        "\n",
        "#Adam optimizer is used which has adaptive learning rate.\n",
        "model.compile(optimizer='adam',loss='sparse_categorical_crossentropy',metrics=['accuracy'])\n",
        "#To store the loss, accuracy for plotting purposes\n",
        "history1=model.fit(X_train2,y_train1,epochs=10,callbacks=[tensorboard])\n",
        "\n",
        "test_loss,accuracy=model.evaluate(X_test2,y_test1)\n",
        "\n",
        "#plot_model(model,show_shapes=True,to_file='model.png')\n",
        "\n",
        "\n",
        "plt.plot(history1.history['acc'])\n",
        "plt.title('Accuracy of the model')\n",
        "plt.ylabel('Accuracy')\n",
        "plt.xlabel('Number of epochs')\n",
        "plt.show()\n",
        "\n",
        "plt.plot(history1.history['loss'])\n",
        "plt.title('Loss of the model')\n",
        "plt.ylabel('Loss')\n",
        "plt.xlabel('Number of epochs')\n",
        "plt.show()\n",
        "\n",
        "#model's predictions\n",
        "pred3 = model.predict(X_test2)\n",
        "\n",
        "#one-hot encoded vector\n",
        "my_dataset3=pd.DataFrame(y_test1)\n",
        "dummies1=pd.get_dummies(my_dataset3[0])\n",
        "y_test_new2=dummies1.values\n",
        "\n",
        "#calculating the confusion matrix\n",
        "y3 = metrics.confusion_matrix(y_test_new2.argmax(axis=1), pred3.argmax(axis=1))\n",
        "\n",
        "#Calculating accuracy of the dataset\n",
        "accuracy_lst3=[]\n",
        "col3=y3.shape[1]\n",
        "row3=y3.shape[0]\n",
        "N_total=X_test.shape[0]\n",
        "for i in range(row3):\n",
        "  for j in range(col3):\n",
        "    if(i==j):\n",
        "      accuracy_lst3.append(y3[i][j])\n",
        "      j=j+1\n",
        "  i=i+1\n",
        "accuracy3=sum(accuracy_lst3)\n",
        "accuracy3=accuracy3/N_total\n",
        "print(\"Accuracy of multi-layer neural network: \",accuracy3)\n",
        "print(\"Confusion Matrix for  multi-layer neural network: \")\n",
        "print(y3)\n"
      ],
      "execution_count": 15,
      "outputs": [
        {
          "output_type": "stream",
          "text": [
            "Train on 60000 samples\n",
            "Epoch 1/10\n",
            "60000/60000 [==============================] - 79s 1ms/sample - loss: 0.8035 - acc: 0.6943\n",
            "Epoch 2/10\n",
            "60000/60000 [==============================] - 79s 1ms/sample - loss: 0.4946 - acc: 0.8125\n",
            "Epoch 3/10\n",
            "60000/60000 [==============================] - 79s 1ms/sample - loss: 0.4305 - acc: 0.8378\n",
            "Epoch 4/10\n",
            "60000/60000 [==============================] - 79s 1ms/sample - loss: 0.3916 - acc: 0.8518\n",
            "Epoch 5/10\n",
            "60000/60000 [==============================] - 79s 1ms/sample - loss: 0.3647 - acc: 0.8630\n",
            "Epoch 6/10\n",
            "60000/60000 [==============================] - 79s 1ms/sample - loss: 0.3440 - acc: 0.8706\n",
            "Epoch 7/10\n",
            "60000/60000 [==============================] - 79s 1ms/sample - loss: 0.3279 - acc: 0.8757\n",
            "Epoch 8/10\n",
            "60000/60000 [==============================] - 80s 1ms/sample - loss: 0.3109 - acc: 0.8826\n",
            "Epoch 9/10\n",
            "60000/60000 [==============================] - 80s 1ms/sample - loss: 0.2982 - acc: 0.8881\n",
            "Epoch 10/10\n",
            "60000/60000 [==============================] - 78s 1ms/sample - loss: 0.2860 - acc: 0.8931\n",
            "10000/10000 [==============================] - 3s 348us/sample - loss: 0.3212 - acc: 0.8796\n"
          ],
          "name": "stdout"
        },
        {
          "output_type": "display_data",
          "data": {
            "image/png": "[encoded data removed]",
            "text/plain": [
              "<Figure size 432x288 with 1 Axes>"
            ]
          },
          "metadata": {
            "tags": []
          }
        },
        {
          "output_type": "display_data",
          "data": {
            "image/png": "[encoded data removed]",
            "text/plain": [
              "<Figure size 432x288 with 1 Axes>"
            ]
          },
          "metadata": {
            "tags": []
          }
        },
        {
          "output_type": "stream",
          "text": [
            "Accuracy of multi-layer neural network:  0.8796\n",
            "Confusion Matrix for  multi-layer neural network: \n",
            "[[855   1  17  17   3   2  99   0   6   0]\n",
            " [  3 969   1  19   2   1   4   0   1   0]\n",
            " [ 12   0 817  12  83   0  75   0   1   0]\n",
            " [ 23   4   8 902  33   1  28   0   1   0]\n",
            " [  0   1 107  43 780   0  69   0   0   0]\n",
            " [  0   0   0   1   0 964   0  23   0  12]\n",
            " [145   0  94  24  81   0 642   0  14   0]\n",
            " [  0   0   0   0   0  20   0 958   0  22]\n",
            " [  4   0   6   7   4   7   2   8 961   1]\n",
            " [  0   0   0   0   0   6   0  46   0 948]]\n"
          ],
          "name": "stdout"
        }
      ]
    }
  ]
}